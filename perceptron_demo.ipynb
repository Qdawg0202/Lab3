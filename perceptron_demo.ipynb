{
 "cells": [
  {
   "cell_type": "markdown",
   "source": [
    "Quang Vo"
   ],
   "metadata": {
    "collapsed": false
   }
  },
  {
   "cell_type": "code",
   "execution_count": 61,
   "outputs": [],
   "source": [
    "import sklearn\n",
    "import numpy as np\n",
    "import pandas as pd\n",
    "#!python --version"
   ],
   "metadata": {
    "collapsed": false
   }
  },
  {
   "cell_type": "markdown",
   "source": [
    "#### Load data from file and preprocess data"
   ],
   "metadata": {
    "collapsed": false
   }
  },
  {
   "cell_type": "code",
   "execution_count": 62,
   "outputs": [
    {
     "name": "stdout",
     "output_type": "stream",
     "text": [
      "      x         y  category\n",
      "0   0.0 -0.432565       0.0\n",
      "1   0.1 -1.665584       0.0\n",
      "2   0.2  0.125332       0.0\n",
      "3   0.3  0.287676       0.0\n",
      "4   0.4 -1.146471       0.0\n",
      "5   0.5  1.190916       1.0\n",
      "6   0.6  1.189164       1.0\n",
      "7   0.7 -0.037633       0.0\n",
      "8   0.8  0.327292       0.0\n",
      "9   0.9  0.174639       0.0\n",
      "10  1.0 -0.186709       0.0\n",
      "(11, 3)\n"
     ]
    }
   ],
   "source": [
    "# import data from text file into a dataframe\n",
    "df = pd.read_csv(r'data1.txt', sep =\"\\t\")\n",
    "print(df)\n",
    "print(df.shape)"
   ],
   "metadata": {
    "collapsed": false
   }
  },
  {
   "cell_type": "code",
   "execution_count": 63,
   "outputs": [
    {
     "data": {
      "text/plain": "array([[ 0.        , -0.43256481,  0.        ],\n       [ 0.1       , -1.6655844 ,  0.        ],\n       [ 0.2       ,  0.12533231,  0.        ],\n       [ 0.3       ,  0.28767642,  0.        ],\n       [ 0.4       , -1.1464714 ,  0.        ],\n       [ 0.5       ,  1.1909155 ,  1.        ],\n       [ 0.6       ,  1.1891642 ,  1.        ],\n       [ 0.7       , -0.03763328,  0.        ],\n       [ 0.8       ,  0.32729236,  0.        ],\n       [ 0.9       ,  0.17463914,  0.        ],\n       [ 1.        , -0.18670858,  0.        ]])"
     },
     "execution_count": 63,
     "metadata": {},
     "output_type": "execute_result"
    }
   ],
   "source": [
    "# convert data frame into a numpy array\n",
    "data = df.to_numpy()\n",
    "data"
   ],
   "metadata": {
    "collapsed": false
   }
  },
  {
   "cell_type": "code",
   "execution_count": 64,
   "outputs": [
    {
     "name": "stdout",
     "output_type": "stream",
     "text": [
      "Rows:  11\n",
      "Cols:  3\n",
      "Target: [0. 0. 0. 0. 0. 1. 1. 0. 0. 0. 0.]\n",
      "Input: \n",
      " [[ 0.         -0.43256481]\n",
      " [ 0.1        -1.6655844 ]\n",
      " [ 0.2         0.12533231]\n",
      " [ 0.3         0.28767642]\n",
      " [ 0.4        -1.1464714 ]\n",
      " [ 0.5         1.1909155 ]\n",
      " [ 0.6         1.1891642 ]\n",
      " [ 0.7        -0.03763328]\n",
      " [ 0.8         0.32729236]\n",
      " [ 0.9         0.17463914]\n",
      " [ 1.         -0.18670858]]\n"
     ]
    }
   ],
   "source": [
    "rows, cols = data.shape\n",
    "print(\"Rows: \", rows)\n",
    "print(\"Cols: \", cols)\n",
    "\n",
    "# separate target (or label) from input\n",
    "# we use slicing operator from Python\n",
    "target = data[: , 2]  # class labels for data\n",
    "print(\"Target:\", target)\n",
    "input = data[: , 0:cols-1] # input data\n",
    "print(\"Input: \\n\", input)\n"
   ],
   "metadata": {
    "collapsed": false
   }
  },
  {
   "cell_type": "markdown",
   "source": [
    "#### Create 80-20 train and test data"
   ],
   "metadata": {
    "collapsed": false
   }
  },
  {
   "cell_type": "code",
   "execution_count": 65,
   "outputs": [
    {
     "name": "stdout",
     "output_type": "stream",
     "text": [
      "X_train: [[ 1.         -0.18670858]\n",
      " [ 0.2         0.12533231]\n",
      " [ 0.1        -1.6655844 ]\n",
      " [ 0.8         0.32729236]\n",
      " [ 0.4        -1.1464714 ]\n",
      " [ 0.7        -0.03763328]\n",
      " [ 0.3         0.28767642]\n",
      " [ 0.6         1.1891642 ]]\n",
      "X_test: [[ 0.5         1.1909155 ]\n",
      " [ 0.         -0.43256481]\n",
      " [ 0.9         0.17463914]]\n",
      "y_train: [0. 0. 0. 0. 0. 0. 0. 1.]\n",
      "y_test: [1. 0. 0.]\n"
     ]
    }
   ],
   "source": [
    "from sklearn import linear_model\n",
    "from sklearn import model_selection\n",
    "\n",
    "X_train, X_test, y_train, y_test = model_selection.train_test_split(\n",
    "    input, target, test_size=0.20, random_state=42)\n",
    "\n",
    "print(\"X_train:\", X_train)\n",
    "print(\"X_test:\", X_test)\n",
    "print(\"y_train:\", y_train)\n",
    "print(\"y_test:\", y_test)"
   ],
   "metadata": {
    "collapsed": false
   }
  },
  {
   "cell_type": "markdown",
   "source": [
    "#### Create, train, and test perceptron"
   ],
   "metadata": {
    "collapsed": false
   }
  },
  {
   "cell_type": "code",
   "execution_count": 66,
   "outputs": [
    {
     "data": {
      "text/plain": "Perceptron()",
      "text/html": "<style>#sk-container-id-6 {color: black;background-color: white;}#sk-container-id-6 pre{padding: 0;}#sk-container-id-6 div.sk-toggleable {background-color: white;}#sk-container-id-6 label.sk-toggleable__label {cursor: pointer;display: block;width: 100%;margin-bottom: 0;padding: 0.3em;box-sizing: border-box;text-align: center;}#sk-container-id-6 label.sk-toggleable__label-arrow:before {content: \"▸\";float: left;margin-right: 0.25em;color: #696969;}#sk-container-id-6 label.sk-toggleable__label-arrow:hover:before {color: black;}#sk-container-id-6 div.sk-estimator:hover label.sk-toggleable__label-arrow:before {color: black;}#sk-container-id-6 div.sk-toggleable__content {max-height: 0;max-width: 0;overflow: hidden;text-align: left;background-color: #f0f8ff;}#sk-container-id-6 div.sk-toggleable__content pre {margin: 0.2em;color: black;border-radius: 0.25em;background-color: #f0f8ff;}#sk-container-id-6 input.sk-toggleable__control:checked~div.sk-toggleable__content {max-height: 200px;max-width: 100%;overflow: auto;}#sk-container-id-6 input.sk-toggleable__control:checked~label.sk-toggleable__label-arrow:before {content: \"▾\";}#sk-container-id-6 div.sk-estimator input.sk-toggleable__control:checked~label.sk-toggleable__label {background-color: #d4ebff;}#sk-container-id-6 div.sk-label input.sk-toggleable__control:checked~label.sk-toggleable__label {background-color: #d4ebff;}#sk-container-id-6 input.sk-hidden--visually {border: 0;clip: rect(1px 1px 1px 1px);clip: rect(1px, 1px, 1px, 1px);height: 1px;margin: -1px;overflow: hidden;padding: 0;position: absolute;width: 1px;}#sk-container-id-6 div.sk-estimator {font-family: monospace;background-color: #f0f8ff;border: 1px dotted black;border-radius: 0.25em;box-sizing: border-box;margin-bottom: 0.5em;}#sk-container-id-6 div.sk-estimator:hover {background-color: #d4ebff;}#sk-container-id-6 div.sk-parallel-item::after {content: \"\";width: 100%;border-bottom: 1px solid gray;flex-grow: 1;}#sk-container-id-6 div.sk-label:hover label.sk-toggleable__label {background-color: #d4ebff;}#sk-container-id-6 div.sk-serial::before {content: \"\";position: absolute;border-left: 1px solid gray;box-sizing: border-box;top: 0;bottom: 0;left: 50%;z-index: 0;}#sk-container-id-6 div.sk-serial {display: flex;flex-direction: column;align-items: center;background-color: white;padding-right: 0.2em;padding-left: 0.2em;position: relative;}#sk-container-id-6 div.sk-item {position: relative;z-index: 1;}#sk-container-id-6 div.sk-parallel {display: flex;align-items: stretch;justify-content: center;background-color: white;position: relative;}#sk-container-id-6 div.sk-item::before, #sk-container-id-6 div.sk-parallel-item::before {content: \"\";position: absolute;border-left: 1px solid gray;box-sizing: border-box;top: 0;bottom: 0;left: 50%;z-index: -1;}#sk-container-id-6 div.sk-parallel-item {display: flex;flex-direction: column;z-index: 1;position: relative;background-color: white;}#sk-container-id-6 div.sk-parallel-item:first-child::after {align-self: flex-end;width: 50%;}#sk-container-id-6 div.sk-parallel-item:last-child::after {align-self: flex-start;width: 50%;}#sk-container-id-6 div.sk-parallel-item:only-child::after {width: 0;}#sk-container-id-6 div.sk-dashed-wrapped {border: 1px dashed gray;margin: 0 0.4em 0.5em 0.4em;box-sizing: border-box;padding-bottom: 0.4em;background-color: white;}#sk-container-id-6 div.sk-label label {font-family: monospace;font-weight: bold;display: inline-block;line-height: 1.2em;}#sk-container-id-6 div.sk-label-container {text-align: center;}#sk-container-id-6 div.sk-container {/* jupyter's `normalize.less` sets `[hidden] { display: none; }` but bootstrap.min.css set `[hidden] { display: none !important; }` so we also need the `!important` here to be able to override the default hidden behavior on the sphinx rendered scikit-learn.org. See: https://github.com/scikit-learn/scikit-learn/issues/21755 */display: inline-block !important;position: relative;}#sk-container-id-6 div.sk-text-repr-fallback {display: none;}</style><div id=\"sk-container-id-6\" class=\"sk-top-container\"><div class=\"sk-text-repr-fallback\"><pre>Perceptron()</pre><b>In a Jupyter environment, please rerun this cell to show the HTML representation or trust the notebook. <br />On GitHub, the HTML representation is unable to render, please try loading this page with nbviewer.org.</b></div><div class=\"sk-container\" hidden><div class=\"sk-item\"><div class=\"sk-estimator sk-toggleable\"><input class=\"sk-toggleable__control sk-hidden--visually\" id=\"sk-estimator-id-6\" type=\"checkbox\" checked><label for=\"sk-estimator-id-6\" class=\"sk-toggleable__label sk-toggleable__label-arrow\">Perceptron</label><div class=\"sk-toggleable__content\"><pre>Perceptron()</pre></div></div></div></div></div>"
     },
     "execution_count": 66,
     "metadata": {},
     "output_type": "execute_result"
    }
   ],
   "source": [
    "clf = linear_model.Perceptron(tol = 1e-3, random_state = 0) # creates a perceptron\n",
    "clf.fit(X_train, y_train) # train the perceptron\n"
   ],
   "metadata": {
    "collapsed": false
   }
  },
  {
   "cell_type": "code",
   "execution_count": 67,
   "outputs": [
    {
     "name": "stdout",
     "output_type": "stream",
     "text": [
      "Accuracy in training: \n"
     ]
    },
    {
     "data": {
      "text/plain": "1.0"
     },
     "execution_count": 67,
     "metadata": {},
     "output_type": "execute_result"
    }
   ],
   "source": [
    "print(\"Accuracy in training: \")\n",
    "clf.score(X_train, y_train) # compute accuracy in train data"
   ],
   "metadata": {
    "collapsed": false
   }
  },
  {
   "cell_type": "code",
   "execution_count": 68,
   "outputs": [
    {
     "name": "stdout",
     "output_type": "stream",
     "text": [
      "Accuracy in testing: \n"
     ]
    },
    {
     "data": {
      "text/plain": "1.0"
     },
     "execution_count": 68,
     "metadata": {},
     "output_type": "execute_result"
    }
   ],
   "source": [
    "print(\"Accuracy in testing: \")\n",
    "clf.score(X_test, y_test)"
   ],
   "metadata": {
    "collapsed": false
   }
  },
  {
   "cell_type": "markdown",
   "source": [
    "#### Print predicted label and true label (target)"
   ],
   "metadata": {
    "collapsed": false
   }
  },
  {
   "cell_type": "code",
   "execution_count": 69,
   "outputs": [
    {
     "name": "stdout",
     "output_type": "stream",
     "text": [
      "Predicted and true label of train data\n"
     ]
    },
    {
     "data": {
      "text/plain": "[array([0., 0., 0., 0., 0., 0., 0., 1.]),\n array([0., 0., 0., 0., 0., 0., 0., 1.])]"
     },
     "execution_count": 69,
     "metadata": {},
     "output_type": "execute_result"
    }
   ],
   "source": [
    "# Perceptron predicts class label for train data\n",
    "predict_train = clf.predict(X_train)\n",
    "print(\"Predicted and true label of train data\")\n",
    "[predict_train, y_train]"
   ],
   "metadata": {
    "collapsed": false
   }
  },
  {
   "cell_type": "code",
   "execution_count": 70,
   "outputs": [
    {
     "data": {
      "text/plain": "{'alpha': 0.0001,\n 'class_weight': None,\n 'early_stopping': False,\n 'eta0': 1.0,\n 'fit_intercept': True,\n 'l1_ratio': 0.15,\n 'max_iter': 1000,\n 'n_iter_no_change': 5,\n 'n_jobs': None,\n 'penalty': None,\n 'random_state': 0,\n 'shuffle': True,\n 'tol': 0.001,\n 'validation_fraction': 0.1,\n 'verbose': 0,\n 'warm_start': False}"
     },
     "execution_count": 70,
     "metadata": {},
     "output_type": "execute_result"
    }
   ],
   "source": [
    "# shows params of the perceptron model\n",
    "clf.get_params()"
   ],
   "metadata": {
    "collapsed": false
   }
  },
  {
   "cell_type": "markdown",
   "source": [
    "#### Read the perceptron weights and plot the line they form along with plotting the 2D data"
   ],
   "metadata": {
    "collapsed": false
   }
  },
  {
   "cell_type": "code",
   "execution_count": 71,
   "outputs": [
    {
     "data": {
      "text/plain": "array([-1.        , -1.4       ,  1.91045226])"
     },
     "execution_count": 71,
     "metadata": {},
     "output_type": "execute_result"
    }
   ],
   "source": [
    "w0 = clf.intercept_ # bias, 1 row x 1 cols\n",
    "weights = clf.coef_ # the other weights, 1 row x 2 cols\n",
    "w = np.concatenate((w0, weights.flatten()), axis = 0)\n",
    "w"
   ],
   "metadata": {
    "collapsed": false
   }
  },
  {
   "cell_type": "code",
   "execution_count": 72,
   "outputs": [
    {
     "data": {
      "text/plain": "<Figure size 640x480 with 1 Axes>",
      "image/png": "[encoded data removed]"
     },
     "metadata": {},
     "output_type": "display_data"
    }
   ],
   "source": [
    "import matplotlib.pyplot as plt\n",
    "\n",
    "# data has examples as rows, and last column is the label 0 or 1\n",
    "def plot_points(data):\n",
    "    xy = data[data[:,-1] == 1,:] # take all rows with last column 1\n",
    "    plt.scatter(xy[:,0], xy[:,1])\n",
    "    xy = data[data[:,-1] == 0,:] # take all rows with last column 0\n",
    "    plt.scatter(xy[:,0], xy[:,1])\n",
    "\n",
    "def plot_lines(min_x, max_x, w):\n",
    "    x = np.linspace(min_x, max_x, 10)\n",
    "    y = -w[0]/w[2] -x*w[1]/w[2]\n",
    "    plt.plot(x,y)\n",
    "\n",
    "plot_points(data)\n",
    "plot_lines(0, 1, w)\n"
   ],
   "metadata": {
    "collapsed": false
   }
  },
  {
   "cell_type": "markdown",
   "source": [
    "#### Part B)"
   ],
   "metadata": {
    "collapsed": false
   }
  },
  {
   "cell_type": "markdown",
   "source": [
    "#### Load data from file and preprocess data\n",
    "\n"
   ],
   "metadata": {
    "collapsed": false
   }
  },
  {
   "cell_type": "code",
   "execution_count": 73,
   "outputs": [
    {
     "name": "stdout",
     "output_type": "stream",
     "text": [
      "       0         1    2\n",
      "0   0.00  0.015274  0.0\n",
      "1   0.05  0.746786  0.0\n",
      "2   0.10  0.445096  0.0\n",
      "3   0.15  0.931815  0.0\n",
      "4   0.20  0.465994  0.0\n",
      "5   0.25  0.418649  0.0\n",
      "6   0.30  0.846221  0.0\n",
      "7   0.35  0.525153  1.0\n",
      "8   0.40  0.202647  0.0\n",
      "9   0.45  0.672137  1.0\n",
      "10  0.50  0.838118  0.0\n",
      "11  0.55  0.019640  0.0\n",
      "12  0.60  0.681277  1.0\n",
      "13  0.65  0.379481  1.0\n",
      "14  0.70  0.831796  0.0\n",
      "15  0.75  0.502813  0.0\n",
      "16  0.80  0.709471  0.0\n",
      "17  0.85  0.428892  0.0\n",
      "18  0.90  0.304617  0.0\n",
      "19  0.95  0.189654  0.0\n",
      "20  1.00  0.193431  0.0\n",
      "(21, 3)\n"
     ]
    }
   ],
   "source": [
    "# import data from text file into a dataframe\n",
    "df2 = pd.read_csv(r'data2.txt', sep =\"\\t\", header=None)\n",
    "print(df2)\n",
    "print(df2.shape)"
   ],
   "metadata": {
    "collapsed": false
   }
  },
  {
   "cell_type": "code",
   "execution_count": 74,
   "outputs": [
    {
     "data": {
      "text/plain": "array([[0.        , 0.01527393, 0.        ],\n       [0.05      , 0.74678568, 0.        ],\n       [0.1       , 0.44509643, 0.        ],\n       [0.15      , 0.93181458, 0.        ],\n       [0.2       , 0.46599434, 0.        ],\n       [0.25      , 0.41864947, 0.        ],\n       [0.3       , 0.84622142, 0.        ],\n       [0.35      , 0.5251525 , 1.        ],\n       [0.4       , 0.20264736, 0.        ],\n       [0.45      , 0.67213747, 1.        ],\n       [0.5       , 0.83811845, 0.        ],\n       [0.55      , 0.01963951, 0.        ],\n       [0.6       , 0.68127716, 1.        ],\n       [0.65      , 0.37948102, 1.        ],\n       [0.7       , 0.83179602, 0.        ],\n       [0.75      , 0.50281288, 0.        ],\n       [0.8       , 0.70947139, 0.        ],\n       [0.85      , 0.42889237, 0.        ],\n       [0.9       , 0.30461737, 0.        ],\n       [0.95      , 0.18965375, 0.        ],\n       [1.        , 0.19343116, 0.        ]])"
     },
     "execution_count": 74,
     "metadata": {},
     "output_type": "execute_result"
    }
   ],
   "source": [
    "# convert data frame into a numpy array\n",
    "data2 = df2.to_numpy()\n",
    "data2"
   ],
   "metadata": {
    "collapsed": false
   }
  },
  {
   "cell_type": "code",
   "execution_count": 75,
   "outputs": [
    {
     "name": "stdout",
     "output_type": "stream",
     "text": [
      "Rows:  21\n",
      "Cols:  3\n",
      "Target: [0. 0. 0. 0. 0. 0. 0. 1. 0. 1. 0. 0. 1. 1. 0. 0. 0. 0. 0. 0. 0.]\n",
      "Input: \n",
      " [[0.         0.01527393]\n",
      " [0.05       0.74678568]\n",
      " [0.1        0.44509643]\n",
      " [0.15       0.93181458]\n",
      " [0.2        0.46599434]\n",
      " [0.25       0.41864947]\n",
      " [0.3        0.84622142]\n",
      " [0.35       0.5251525 ]\n",
      " [0.4        0.20264736]\n",
      " [0.45       0.67213747]\n",
      " [0.5        0.83811845]\n",
      " [0.55       0.01963951]\n",
      " [0.6        0.68127716]\n",
      " [0.65       0.37948102]\n",
      " [0.7        0.83179602]\n",
      " [0.75       0.50281288]\n",
      " [0.8        0.70947139]\n",
      " [0.85       0.42889237]\n",
      " [0.9        0.30461737]\n",
      " [0.95       0.18965375]\n",
      " [1.         0.19343116]]\n"
     ]
    }
   ],
   "source": [
    "rows2, cols2 = data2.shape\n",
    "print(\"Rows: \", rows2)\n",
    "print(\"Cols: \", cols2)\n",
    "\n",
    "# separate target (or label) from input\n",
    "# we use slicing operator from Python\n",
    "target2 = data2[: , cols2-1]  # class labels for data\n",
    "print(\"Target:\", target2)\n",
    "input2 = data2[: , 0:cols2-1] # input data\n",
    "print(\"Input: \\n\", input2)"
   ],
   "metadata": {
    "collapsed": false
   }
  },
  {
   "cell_type": "markdown",
   "source": [
    "#### Create 80-20 train and test data"
   ],
   "metadata": {
    "collapsed": false
   }
  },
  {
   "cell_type": "markdown",
   "source": [],
   "metadata": {
    "collapsed": false
   }
  },
  {
   "cell_type": "code",
   "execution_count": 76,
   "outputs": [
    {
     "name": "stdout",
     "output_type": "stream",
     "text": [
      "X_train2: [[0.25       0.41864947]\n",
      " [0.55       0.01963951]\n",
      " [0.15       0.93181458]\n",
      " [0.9        0.30461737]\n",
      " [0.8        0.70947139]\n",
      " [0.65       0.37948102]\n",
      " [0.1        0.44509643]\n",
      " [0.45       0.67213747]\n",
      " [1.         0.19343116]\n",
      " [0.2        0.46599434]\n",
      " [0.6        0.68127716]\n",
      " [0.35       0.5251525 ]\n",
      " [0.5        0.83811845]\n",
      " [0.7        0.83179602]\n",
      " [0.95       0.18965375]\n",
      " [0.3        0.84622142]]\n",
      "X_test2: [[0.         0.01527393]\n",
      " [0.85       0.42889237]\n",
      " [0.75       0.50281288]\n",
      " [0.05       0.74678568]\n",
      " [0.4        0.20264736]]\n",
      "y_train2: [0. 0. 0. 0. 0. 1. 0. 1. 0. 0. 1. 1. 0. 0. 0. 0.]\n",
      "y_test2: [0. 0. 0. 0. 0.]\n"
     ]
    }
   ],
   "source": [
    "from sklearn import linear_model\n",
    "from sklearn import model_selection\n",
    "\n",
    "X_train2, X_test2, y_train2, y_test2 = model_selection.train_test_split(input2, target2, test_size=0.20, random_state=42)\n",
    "\n",
    "print(\"X_train2:\", X_train2)\n",
    "print(\"X_test2:\", X_test2)\n",
    "print(\"y_train2:\", y_train2)\n",
    "print(\"y_test2:\", y_test2)"
   ],
   "metadata": {
    "collapsed": false
   }
  },
  {
   "cell_type": "markdown",
   "source": [
    "#### Create, train, and test perceptron"
   ],
   "metadata": {
    "collapsed": false
   }
  },
  {
   "cell_type": "code",
   "execution_count": 77,
   "outputs": [
    {
     "data": {
      "text/plain": "Perceptron()",
      "text/html": "<style>#sk-container-id-7 {color: black;background-color: white;}#sk-container-id-7 pre{padding: 0;}#sk-container-id-7 div.sk-toggleable {background-color: white;}#sk-container-id-7 label.sk-toggleable__label {cursor: pointer;display: block;width: 100%;margin-bottom: 0;padding: 0.3em;box-sizing: border-box;text-align: center;}#sk-container-id-7 label.sk-toggleable__label-arrow:before {content: \"▸\";float: left;margin-right: 0.25em;color: #696969;}#sk-container-id-7 label.sk-toggleable__label-arrow:hover:before {color: black;}#sk-container-id-7 div.sk-estimator:hover label.sk-toggleable__label-arrow:before {color: black;}#sk-container-id-7 div.sk-toggleable__content {max-height: 0;max-width: 0;overflow: hidden;text-align: left;background-color: #f0f8ff;}#sk-container-id-7 div.sk-toggleable__content pre {margin: 0.2em;color: black;border-radius: 0.25em;background-color: #f0f8ff;}#sk-container-id-7 input.sk-toggleable__control:checked~div.sk-toggleable__content {max-height: 200px;max-width: 100%;overflow: auto;}#sk-container-id-7 input.sk-toggleable__control:checked~label.sk-toggleable__label-arrow:before {content: \"▾\";}#sk-container-id-7 div.sk-estimator input.sk-toggleable__control:checked~label.sk-toggleable__label {background-color: #d4ebff;}#sk-container-id-7 div.sk-label input.sk-toggleable__control:checked~label.sk-toggleable__label {background-color: #d4ebff;}#sk-container-id-7 input.sk-hidden--visually {border: 0;clip: rect(1px 1px 1px 1px);clip: rect(1px, 1px, 1px, 1px);height: 1px;margin: -1px;overflow: hidden;padding: 0;position: absolute;width: 1px;}#sk-container-id-7 div.sk-estimator {font-family: monospace;background-color: #f0f8ff;border: 1px dotted black;border-radius: 0.25em;box-sizing: border-box;margin-bottom: 0.5em;}#sk-container-id-7 div.sk-estimator:hover {background-color: #d4ebff;}#sk-container-id-7 div.sk-parallel-item::after {content: \"\";width: 100%;border-bottom: 1px solid gray;flex-grow: 1;}#sk-container-id-7 div.sk-label:hover label.sk-toggleable__label {background-color: #d4ebff;}#sk-container-id-7 div.sk-serial::before {content: \"\";position: absolute;border-left: 1px solid gray;box-sizing: border-box;top: 0;bottom: 0;left: 50%;z-index: 0;}#sk-container-id-7 div.sk-serial {display: flex;flex-direction: column;align-items: center;background-color: white;padding-right: 0.2em;padding-left: 0.2em;position: relative;}#sk-container-id-7 div.sk-item {position: relative;z-index: 1;}#sk-container-id-7 div.sk-parallel {display: flex;align-items: stretch;justify-content: center;background-color: white;position: relative;}#sk-container-id-7 div.sk-item::before, #sk-container-id-7 div.sk-parallel-item::before {content: \"\";position: absolute;border-left: 1px solid gray;box-sizing: border-box;top: 0;bottom: 0;left: 50%;z-index: -1;}#sk-container-id-7 div.sk-parallel-item {display: flex;flex-direction: column;z-index: 1;position: relative;background-color: white;}#sk-container-id-7 div.sk-parallel-item:first-child::after {align-self: flex-end;width: 50%;}#sk-container-id-7 div.sk-parallel-item:last-child::after {align-self: flex-start;width: 50%;}#sk-container-id-7 div.sk-parallel-item:only-child::after {width: 0;}#sk-container-id-7 div.sk-dashed-wrapped {border: 1px dashed gray;margin: 0 0.4em 0.5em 0.4em;box-sizing: border-box;padding-bottom: 0.4em;background-color: white;}#sk-container-id-7 div.sk-label label {font-family: monospace;font-weight: bold;display: inline-block;line-height: 1.2em;}#sk-container-id-7 div.sk-label-container {text-align: center;}#sk-container-id-7 div.sk-container {/* jupyter's `normalize.less` sets `[hidden] { display: none; }` but bootstrap.min.css set `[hidden] { display: none !important; }` so we also need the `!important` here to be able to override the default hidden behavior on the sphinx rendered scikit-learn.org. See: https://github.com/scikit-learn/scikit-learn/issues/21755 */display: inline-block !important;position: relative;}#sk-container-id-7 div.sk-text-repr-fallback {display: none;}</style><div id=\"sk-container-id-7\" class=\"sk-top-container\"><div class=\"sk-text-repr-fallback\"><pre>Perceptron()</pre><b>In a Jupyter environment, please rerun this cell to show the HTML representation or trust the notebook. <br />On GitHub, the HTML representation is unable to render, please try loading this page with nbviewer.org.</b></div><div class=\"sk-container\" hidden><div class=\"sk-item\"><div class=\"sk-estimator sk-toggleable\"><input class=\"sk-toggleable__control sk-hidden--visually\" id=\"sk-estimator-id-7\" type=\"checkbox\" checked><label for=\"sk-estimator-id-7\" class=\"sk-toggleable__label sk-toggleable__label-arrow\">Perceptron</label><div class=\"sk-toggleable__content\"><pre>Perceptron()</pre></div></div></div></div></div>"
     },
     "execution_count": 77,
     "metadata": {},
     "output_type": "execute_result"
    }
   ],
   "source": [
    "clf2 = linear_model.Perceptron(tol = 1e-3, random_state = 0) # creates a perceptron\n",
    "clf2.fit(X_train2, y_train2) # train the perceptron\n"
   ],
   "metadata": {
    "collapsed": false
   }
  },
  {
   "cell_type": "code",
   "execution_count": 78,
   "outputs": [
    {
     "name": "stdout",
     "output_type": "stream",
     "text": [
      "Accuracy in training: \n"
     ]
    },
    {
     "data": {
      "text/plain": "0.75"
     },
     "execution_count": 78,
     "metadata": {},
     "output_type": "execute_result"
    }
   ],
   "source": [
    "print(\"Accuracy in training: \")\n",
    "clf2.score(X_train2, y_train2) # compute accuracy in train data"
   ],
   "metadata": {
    "collapsed": false
   }
  },
  {
   "cell_type": "code",
   "execution_count": 79,
   "outputs": [
    {
     "name": "stdout",
     "output_type": "stream",
     "text": [
      "Accuracy in testing: \n"
     ]
    },
    {
     "data": {
      "text/plain": "1.0"
     },
     "execution_count": 79,
     "metadata": {},
     "output_type": "execute_result"
    }
   ],
   "source": [
    "print(\"Accuracy in testing: \")\n",
    "clf2.score(X_test2, y_test2) # compute accuracy in train data"
   ],
   "metadata": {
    "collapsed": false
   }
  },
  {
   "cell_type": "markdown",
   "source": [
    "#### Print predicted label and true label (target)"
   ],
   "metadata": {
    "collapsed": false
   }
  },
  {
   "cell_type": "code",
   "execution_count": 80,
   "outputs": [
    {
     "name": "stdout",
     "output_type": "stream",
     "text": [
      "Predicted and true label of train data\n"
     ]
    },
    {
     "data": {
      "text/plain": "[array([0., 0., 0., 0., 0., 0., 0., 0., 0., 0., 0., 0., 0., 0., 0., 0.]),\n array([0., 0., 0., 0., 0., 1., 0., 1., 0., 0., 1., 1., 0., 0., 0., 0.])]"
     },
     "execution_count": 80,
     "metadata": {},
     "output_type": "execute_result"
    }
   ],
   "source": [
    "# Perceptron predicts class label for train data\n",
    "predict_train2 = clf2.predict(X_train2)\n",
    "print(\"Predicted and true label of train data\")\n",
    "[predict_train2, y_train2]"
   ],
   "metadata": {
    "collapsed": false
   }
  },
  {
   "cell_type": "code",
   "execution_count": 81,
   "outputs": [
    {
     "data": {
      "text/plain": "{'alpha': 0.0001,\n 'class_weight': None,\n 'early_stopping': False,\n 'eta0': 1.0,\n 'fit_intercept': True,\n 'l1_ratio': 0.15,\n 'max_iter': 1000,\n 'n_iter_no_change': 5,\n 'n_jobs': None,\n 'penalty': None,\n 'random_state': 0,\n 'shuffle': True,\n 'tol': 0.001,\n 'validation_fraction': 0.1,\n 'verbose': 0,\n 'warm_start': False}"
     },
     "execution_count": 81,
     "metadata": {},
     "output_type": "execute_result"
    }
   ],
   "source": [
    "# shows params of the perceptron model\n",
    "clf2.get_params()"
   ],
   "metadata": {
    "collapsed": false
   }
  },
  {
   "cell_type": "markdown",
   "source": [
    "#### Read the perceptron weights and plot the line they form along with plotting the 2D data"
   ],
   "metadata": {
    "collapsed": false
   }
  },
  {
   "cell_type": "code",
   "execution_count": 82,
   "outputs": [
    {
     "data": {
      "text/plain": "array([-2.        ,  0.25      , -0.09553077])"
     },
     "execution_count": 82,
     "metadata": {},
     "output_type": "execute_result"
    }
   ],
   "source": [
    "w02 = clf2.intercept_ # bias, 1 row x 1 cols\n",
    "weights2 = clf2.coef_ # the other weights, 1 row x 2 cols\n",
    "w2 = np.concatenate((w02, weights2.flatten()), axis = 0)\n",
    "w2"
   ],
   "metadata": {
    "collapsed": false
   }
  },
  {
   "cell_type": "code",
   "execution_count": 83,
   "outputs": [
    {
     "data": {
      "text/plain": "<Figure size 640x480 with 1 Axes>",
      "image/png": "[encoded data removed]"
     },
     "metadata": {},
     "output_type": "display_data"
    }
   ],
   "source": [
    "import matplotlib.pyplot as plt\n",
    "\n",
    "# data has examples as rows, and last column is the label 0 or 1\n",
    "def plot_points(data2):\n",
    "    xy = data2[data2[:,-1] == 1,:] # take all rows with last column 1\n",
    "    plt.scatter(xy[:,0], xy[:,1])\n",
    "    xy = data2[data2[:,-1] == 0,:] # take all rows with last column 0\n",
    "    plt.scatter(xy[:,0], xy[:,1])\n",
    "\n",
    "def plot_lines(min_x, max_x, w):\n",
    "    x = np.linspace(min_x, max_x, 10)\n",
    "    y = -w[0]/w[2] -x*w[1]/w[2]\n",
    "    plt.plot(x,y)\n",
    "\n",
    "plot_points(data2)\n",
    "plot_lines(0, 1, w)"
   ],
   "metadata": {
    "collapsed": false
   }
  },
  {
   "cell_type": "markdown",
   "source": [
    "the reason why the perceptron cannot easily classify the data is because there is no linearly separable line that can split the data into two classes"
   ],
   "metadata": {
    "collapsed": false
   }
  }
 ],
 "metadata": {
  "kernelspec": {
   "display_name": "Python 3",
   "language": "python",
   "name": "python3"
  },
  "language_info": {
   "codemirror_mode": {
    "name": "ipython",
    "version": 2
   },
   "file_extension": ".py",
   "mimetype": "text/x-python",
   "name": "python",
   "nbconvert_exporter": "python",
   "pygments_lexer": "ipython2",
   "version": "2.7.6"
  }
 },
 "nbformat": 4,
 "nbformat_minor": 0
}
